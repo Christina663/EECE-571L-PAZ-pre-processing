{
 "cells": [
  {
   "cell_type": "code",
   "execution_count": null,
   "id": "a2f93f83",
   "metadata": {},
   "outputs": [],
   "source": [
    "from paz.backend.image import load_image, show_image\n",
    "from paz.applications import HaarCascadeFrontalFace, MiniXceptionFER\n",
    "import paz.processors as pr\n",
    "from paz.backend.image.image import crop_image\n",
    "from paz.processors.detection import CropBoxes2D"
   ]
  },
  {
   "cell_type": "code",
   "execution_count": null,
   "id": "0ba2ab1b",
   "metadata": {},
   "outputs": [],
   "source": [
    "# 2.6 s per image using a loop - need 26 mins for 6,000 images\n",
    "# %%timeit -r 3 \n",
    "for i in range(1, 5):\n",
    "    print('Image ', i, '\\n')\n",
    "    path = 'EECE 571L\\Driver emotion detection Project\\DMD\\s3_rgb_face_small_set_60_images'\n",
    "    image_name = ('\\%(number)06d.png' % {\"number\": i})\n",
    "    path = path + image_name\n",
    "    image = load_image(path)\n",
    "    #show_image(image)\n",
    "    \n",
    "    detect = HaarCascadeFrontalFace(draw=False)\n",
    "    crop = CropBoxes2D()\n",
    "    inference = detect(image)\n",
    "    boxes2D = inference['boxes2D']\n",
    "    #print(inference)\n",
    "    cropped_images = crop(image, boxes2D)\n",
    "    #show_image(cropped_images[0])\n",
    "    classify = MiniXceptionFER()\n",
    "    emotion = classify(cropped_images[0])['class_name']\n",
    "    print(emotion)"
   ]
  }
 ],
 "metadata": {
  "kernelspec": {
   "display_name": "Python 3 (ipykernel)",
   "language": "python",
   "name": "python3"
  },
  "language_info": {
   "codemirror_mode": {
    "name": "ipython",
    "version": 3
   },
   "file_extension": ".py",
   "mimetype": "text/x-python",
   "name": "python",
   "nbconvert_exporter": "python",
   "pygments_lexer": "ipython3",
   "version": "3.10.9"
  }
 },
 "nbformat": 4,
 "nbformat_minor": 5
}
